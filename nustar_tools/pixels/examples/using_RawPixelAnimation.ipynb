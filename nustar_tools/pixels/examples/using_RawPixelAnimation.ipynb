{
 "cells": [
  {
   "attachments": {},
   "cell_type": "markdown",
   "metadata": {},
   "source": [
    "# PixelAnimation"
   ]
  },
  {
   "cell_type": "code",
   "execution_count": 1,
   "metadata": {},
   "outputs": [],
   "source": [
    "%load_ext autoreload\n",
    "%autoreload 2"
   ]
  },
  {
   "cell_type": "code",
   "execution_count": 2,
   "metadata": {},
   "outputs": [],
   "source": [
    "from nustar_tools.pixels import RawPixelAnimation as rpa"
   ]
  },
  {
   "attachments": {},
   "cell_type": "markdown",
   "metadata": {},
   "source": [
    "## Creating the animation"
   ]
  },
  {
   "cell_type": "code",
   "execution_count": 3,
   "metadata": {},
   "outputs": [],
   "source": [
    "id_dir = '/home/reed/Documents/research/nustar/data/20180529/80410201001/'\n",
    "fpm = 'A'\n",
    "time_step = 60\n",
    "frame_length = 60\n",
    "\n",
    "anim = rpa.RawPixelAnimation(id_dir, fpm, time_step, frame_length)\n",
    "anim.animate(fps=10, dpi=400)"
   ]
  },
  {
   "attachments": {},
   "cell_type": "markdown",
   "metadata": {},
   "source": [
    "### With a centroid time series\n",
    "\n",
    "This is not as refined as the animation without the centroid."
   ]
  },
  {
   "cell_type": "code",
   "execution_count": 4,
   "metadata": {},
   "outputs": [],
   "source": [
    "id_dir = '/home/reed/Documents/research/nustar/data/20180529/80410201001/'\n",
    "fpm = 'A'\n",
    "time_step = 60\n",
    "frame_length = 30\n",
    "\n",
    "anim = rpa.RawPixelAnimationCentroid(id_dir, fpm, time_step, frame_length, cmaps=['Greys']*4)\n",
    "anim.animate(fps=10, dpi=400)"
   ]
  }
 ],
 "metadata": {
  "kernelspec": {
   "display_name": "Python 3",
   "language": "python",
   "name": "python3"
  },
  "language_info": {
   "codemirror_mode": {
    "name": "ipython",
    "version": 3
   },
   "file_extension": ".py",
   "mimetype": "text/x-python",
   "name": "python",
   "nbconvert_exporter": "python",
   "pygments_lexer": "ipython3",
   "version": "3.11.2"
  },
  "orig_nbformat": 4
 },
 "nbformat": 4,
 "nbformat_minor": 2
}
